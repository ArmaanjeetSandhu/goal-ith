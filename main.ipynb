{
 "cells": [
  {
   "cell_type": "code",
   "execution_count": 1,
   "metadata": {},
   "outputs": [],
   "source": [
    "import numpy as np\n",
    "import pandas as pd\n",
    "from scipy.optimize import linprog\n",
    "import ipywidgets as widgets\n",
    "from IPython.display import display"
   ]
  },
  {
   "cell_type": "code",
   "execution_count": 2,
   "metadata": {},
   "outputs": [],
   "source": [
    "import calculator_functions as cf\n",
    "import helper_functions as hf"
   ]
  },
  {
   "cell_type": "code",
   "execution_count": 3,
   "metadata": {},
   "outputs": [],
   "source": [
    "def select_rows(df, cols = 5):\n",
    "    checkboxes = []\n",
    "    for i, row in df.iterrows():\n",
    "        checkbox = widgets.Checkbox(\n",
    "            value = False,\n",
    "            description = f'{row[\"Food\"]}',\n",
    "        )\n",
    "        checkboxes.append(checkbox)\n",
    "\n",
    "    grid = widgets.GridBox(checkboxes, layout = widgets.Layout(\n",
    "        grid_template_columns = f'repeat({cols}, 150px)',\n",
    "        grid_gap='10px 10px'\n",
    "    ))\n",
    "\n",
    "    def on_button_click(b):\n",
    "        selected_rows = [i for i, checkbox in enumerate(checkboxes) if checkbox.value]\n",
    "        selected_df = df.iloc[selected_rows]\n",
    "        display(selected_df)\n",
    "        global data\n",
    "        data = selected_df\n",
    "\n",
    "    button = widgets.Button(description = \"Submit\")\n",
    "    button.on_click(on_button_click)\n",
    "\n",
    "    display(grid, button)"
   ]
  },
  {
   "cell_type": "code",
   "execution_count": 4,
   "metadata": {},
   "outputs": [],
   "source": [
    "gender = input(\"Enter your gender (m/f): \")\n",
    "weight = hf.input_validation(\"Enter your weight (in kg): \", int)\n",
    "height = hf.input_validation(\"Enter your height (in cm): \", int)\n",
    "age = hf.input_validation(\"Enter your age (in years): \", int)\n",
    "activity_multiplier = hf.input_validation(\"Enter your activity multiplier: \", float)\n",
    "goal = input(\"Enter your goal (cutting/bulking/maintaining): \")"
   ]
  },
  {
   "cell_type": "code",
   "execution_count": 5,
   "metadata": {},
   "outputs": [],
   "source": [
    "bmr = cf.bmr(gender, weight, height, age)\n",
    "tdee = cf.tdee(bmr, activity_multiplier)\n",
    "daily_caloric_intake = {\n",
    "    \"cutting\": 0.75 * tdee,\n",
    "    \"bulking\": 1.10 * tdee,\n",
    "    \"maintaining\": tdee,\n",
    "}.get(goal, tdee)\n",
    "\n",
    "protein, carbohydrates, fats, fibre, saturated_fats = cf.macros(\n",
    "    int(daily_caloric_intake), goal\n",
    ")"
   ]
  },
  {
   "cell_type": "code",
   "execution_count": null,
   "metadata": {},
   "outputs": [],
   "source": [
    "print(f\"BMR: {bmr}\")\n",
    "print(f\"TDEE: {tdee}\")\n",
    "print(f\"Daily Caloric Intake: {int(daily_caloric_intake)}\")\n",
    "print(f\"Protein (g): {protein}\")\n",
    "print(f\"Carbohydrates (g): {carbohydrates}\")\n",
    "print(f\"Fats (g): {fats}\")\n",
    "print(f\"Fibre (g): {fibre}\")\n",
    "print(f\"Saturated Fats (g): {saturated_fats}\")"
   ]
  },
  {
   "cell_type": "code",
   "execution_count": 7,
   "metadata": {},
   "outputs": [],
   "source": [
    "nutrients_data = hf.create_nutrients_df()\n",
    "nutrient_bounds = cf.nutrient_bounds(age, gender)"
   ]
  },
  {
   "cell_type": "code",
   "execution_count": null,
   "metadata": {},
   "outputs": [],
   "source": [
    "food_items = pd.read_csv(\"food_items.csv\")\n",
    "select_rows(food_items, cols = 5)"
   ]
  },
  {
   "cell_type": "code",
   "execution_count": 9,
   "metadata": {},
   "outputs": [],
   "source": [
    "c = data[\"Price\"].values\n",
    "\n",
    "A_ub = []\n",
    "b_ub = []\n",
    "\n",
    "A_ub.extend(\n",
    "    [\n",
    "        -data[\"Protein (g)\"].values,\n",
    "        data[\"Protein (g)\"].values,\n",
    "        -data[\"Carbohydrates (g)\"].values,\n",
    "        data[\"Carbohydrates (g)\"].values,\n",
    "        -data[\"Fats (g)\"].values,\n",
    "        data[\"Fats (g)\"].values,\n",
    "        -data[\"Fibre (g)\"].values,\n",
    "        data[\"Fibre (g)\"].values,\n",
    "        data[\"Saturated Fats (g)\"].values,\n",
    "    ]\n",
    ")\n",
    "\n",
    "b_ub.extend(\n",
    "    [\n",
    "        -protein,\n",
    "        protein * 1.01,\n",
    "        -carbohydrates,\n",
    "        carbohydrates * 1.01,\n",
    "        -fats,\n",
    "        fats * 1.01,\n",
    "        -fibre,\n",
    "        fibre * 1.01,\n",
    "        saturated_fats,\n",
    "    ]\n",
    ")\n",
    "\n",
    "for nutrient in nutrients_data.columns[1:]:\n",
    "    if nutrient.endswith(\"_RDA\"):\n",
    "        base_nutrient = nutrient[:-4]\n",
    "        if base_nutrient in data.columns:\n",
    "            A_ub.append(-data[base_nutrient].values)\n",
    "            b_ub.append(-nutrient_bounds[nutrient])\n",
    "    elif nutrient.endswith(\"_UL\"):\n",
    "        base_nutrient = nutrient[:-3]\n",
    "        if base_nutrient in data.columns:\n",
    "            A_ub.append(data[base_nutrient].values)\n",
    "            b_ub.append(nutrient_bounds[nutrient])\n",
    "\n",
    "A_ub = np.array(A_ub)\n",
    "b_ub = np.array(b_ub)\n",
    "\n",
    "bounds = [(0, None) for _ in range(len(data))]"
   ]
  },
  {
   "cell_type": "code",
   "execution_count": null,
   "metadata": {},
   "outputs": [],
   "source": [
    "result = linprog(c, A_ub=A_ub, b_ub=b_ub, bounds=bounds, method=\"highs\")\n",
    "\n",
    "if result.success:\n",
    "    print(\"Optimization succeeded!\")\n",
    "else:\n",
    "    print(\"Optimization failed! No feasible solution found.\")"
   ]
  },
  {
   "cell_type": "code",
   "execution_count": null,
   "metadata": {},
   "outputs": [],
   "source": [
    "if result.success:\n",
    "    servings = np.round(result.x, 1)\n",
    "    quantity = np.round(servings * data[\"Serving (g)\"], 1)\n",
    "    total_cost_per_item = np.round(servings * data[\"Price\"], 1)\n",
    "\n",
    "    nutrient_totals = {}\n",
    "    for nutrient in data.columns[3:]:\n",
    "        nutrient_totals[nutrient] = np.round(np.sum(servings * data[nutrient]), 1)\n",
    "\n",
    "    result_df = pd.DataFrame(\n",
    "        {\n",
    "            \"Food Item\": data[\"Food\"],\n",
    "            \"Optimal Servings\": servings,\n",
    "            \"Optimal Quantity\": quantity,\n",
    "            \"Total Cost\": total_cost_per_item,\n",
    "            **{\n",
    "                f\"Total {nutrient}\": np.round(servings * data[nutrient], 1)\n",
    "                for nutrient in data.columns[3:]\n",
    "            },\n",
    "        }\n",
    "    )\n",
    "    result_df[\"Optimal Quantity\"] = result_df[\"Optimal Quantity\"].apply(\n",
    "        hf.format_weight\n",
    "    )\n",
    "    print(result_df[result_df.iloc[:, 1:].ne(0).any(axis=1)])"
   ]
  },
  {
   "cell_type": "code",
   "execution_count": null,
   "metadata": {},
   "outputs": [],
   "source": [
    "if result.success:\n",
    "    print(\"\\nDaily Summary:\")\n",
    "    for nutrient, total in nutrient_totals.items():\n",
    "        print(f\"{nutrient}: {total}\")"
   ]
  },
  {
   "cell_type": "code",
   "execution_count": null,
   "metadata": {},
   "outputs": [],
   "source": [
    "if result.success:\n",
    "    print(f\"\\nTotal Cost: ${np.sum(total_cost_per_item):.2f}\")"
   ]
  }
 ],
 "metadata": {
  "kernelspec": {
   "display_name": "goalenv",
   "language": "python",
   "name": "python3"
  },
  "language_info": {
   "codemirror_mode": {
    "name": "ipython",
    "version": 3
   },
   "file_extension": ".py",
   "mimetype": "text/x-python",
   "name": "python",
   "nbconvert_exporter": "python",
   "pygments_lexer": "ipython3",
   "version": "3.12.5"
  }
 },
 "nbformat": 4,
 "nbformat_minor": 2
}
